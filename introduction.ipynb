{
 "cells": [
  {
   "cell_type": "markdown",
   "id": "019a2385",
   "metadata": {},
   "source": [
    "# introduction to GIS programming\n",
    "GIS is a technological field that is use to store, creates, manages, analyzes,spatial data along with none spatial attributes\n",
    "# spatial data\n",
    "1. vector (points,lines and polygons)\n",
    "2. raster\n",
    "# GIS programming \n",
    "it is writting code or programms tha automate (storage,creation,analysis and management) of spatial data.\n",
    "# area of spatialization in GIS programming\n",
    "1. web mapping\n",
    "2. Desktop GIS\n",
    "3. GIS database\n",
    "# why do i need GIS programming\n",
    "in most cases existing software and programms was written to fit individual needs at that particular time hence some functionalities might not address currect problen on hand.\n",
    "\n",
    "1. make work easy by automating boring process (combinening different process that you could have been waiting and clicking in existing software)\n",
    "2. flexibility - you can be able to manibulate process to fit your desire\n",
    "3. safes on time\n"
   ]
  },
  {
   "cell_type": "markdown",
   "id": "82e626cc",
   "metadata": {},
   "source": [
    "# PYTHON PROGRAMMIN FOR GIS"
   ]
  },
  {
   "cell_type": "markdown",
   "id": "ac9f6731",
   "metadata": {},
   "source": [
    "# best libraries to start with and not limited to\n",
    "1. Pandas\n",
    "2. matplotlib\n",
    "3. geopandas\n",
    "4. shapely\n",
    "5. rasterio\n",
    "6. numpy"
   ]
  },
  {
   "cell_type": "markdown",
   "id": "ce879234",
   "metadata": {},
   "source": [
    "# Pandas\n",
    "## Reading data from Different file types to pandas"
   ]
  },
  {
   "cell_type": "markdown",
   "id": "4509b259",
   "metadata": {},
   "source": [
    "1. CSV----> read_csv()\n",
    "2. JASON --->read_json()\n",
    "3. HTML ---> READ_HTML()\n",
    "4. XML----> read_xml()\n",
    "5. SQL----> read_sql()\n",
    "6. excel----> read_excel()\n"
   ]
  },
  {
   "cell_type": "markdown",
   "id": "f037062b",
   "metadata": {},
   "source": [
    "## Creating a DataFrame"
   ]
  },
  {
   "cell_type": "markdown",
   "id": "3525624b",
   "metadata": {},
   "source": [
    "# importing required libraries"
   ]
  },
  {
   "cell_type": "code",
   "execution_count": 60,
   "id": "cbee5b5c",
   "metadata": {},
   "outputs": [
    {
     "name": "stdout",
     "output_type": "stream",
     "text": [
      "Empty DataFrame\n",
      "Columns: []\n",
      "Index: []\n"
     ]
    }
   ],
   "source": [
    "import matplotlib.pyplot as plt\n",
    "import pandas as pd\n",
    "import geopandas as gpd\n",
    "import shapely.geometry\n",
    "import numpy as np\n",
    "from shapely.geometry import Point,Polygon\n",
    "\n",
    "data=pd.DataFrame()\n",
    "print(data)"
   ]
  },
  {
   "cell_type": "markdown",
   "id": "abe13fb3",
   "metadata": {},
   "source": [
    "# Dictionary list of coordinates"
   ]
  },
  {
   "cell_type": "code",
   "execution_count": 4,
   "id": "da1c11e0",
   "metadata": {},
   "outputs": [],
   "source": [
    "coordinates={\n",
    "    \"x\":[2,3,4,5,6,],\n",
    "    \"y\":[7,8,9,0,11]\n",
    "}"
   ]
  },
  {
   "cell_type": "code",
   "execution_count": 6,
   "id": "d5a40647",
   "metadata": {},
   "outputs": [
    {
     "data": {
      "text/html": [
       "<div>\n",
       "<style scoped>\n",
       "    .dataframe tbody tr th:only-of-type {\n",
       "        vertical-align: middle;\n",
       "    }\n",
       "\n",
       "    .dataframe tbody tr th {\n",
       "        vertical-align: top;\n",
       "    }\n",
       "\n",
       "    .dataframe thead th {\n",
       "        text-align: right;\n",
       "    }\n",
       "</style>\n",
       "<table border=\"1\" class=\"dataframe\">\n",
       "  <thead>\n",
       "    <tr style=\"text-align: right;\">\n",
       "      <th></th>\n",
       "      <th>x</th>\n",
       "      <th>y</th>\n",
       "    </tr>\n",
       "  </thead>\n",
       "  <tbody>\n",
       "    <tr>\n",
       "      <th>0</th>\n",
       "      <td>2</td>\n",
       "      <td>7</td>\n",
       "    </tr>\n",
       "    <tr>\n",
       "      <th>1</th>\n",
       "      <td>3</td>\n",
       "      <td>8</td>\n",
       "    </tr>\n",
       "    <tr>\n",
       "      <th>2</th>\n",
       "      <td>4</td>\n",
       "      <td>9</td>\n",
       "    </tr>\n",
       "    <tr>\n",
       "      <th>3</th>\n",
       "      <td>5</td>\n",
       "      <td>0</td>\n",
       "    </tr>\n",
       "    <tr>\n",
       "      <th>4</th>\n",
       "      <td>6</td>\n",
       "      <td>11</td>\n",
       "    </tr>\n",
       "  </tbody>\n",
       "</table>\n",
       "</div>"
      ],
      "text/plain": [
       "   x   y\n",
       "0  2   7\n",
       "1  3   8\n",
       "2  4   9\n",
       "3  5   0\n",
       "4  6  11"
      ]
     },
     "execution_count": 6,
     "metadata": {},
     "output_type": "execute_result"
    }
   ],
   "source": [
    "#DataFrame creation\n",
    "df=pd.DataFrame(coordinates)\n",
    "df"
   ]
  },
  {
   "cell_type": "code",
   "execution_count": 7,
   "id": "723c7e7a",
   "metadata": {},
   "outputs": [
    {
     "data": {
      "text/html": [
       "<div>\n",
       "<style scoped>\n",
       "    .dataframe tbody tr th:only-of-type {\n",
       "        vertical-align: middle;\n",
       "    }\n",
       "\n",
       "    .dataframe tbody tr th {\n",
       "        vertical-align: top;\n",
       "    }\n",
       "\n",
       "    .dataframe thead th {\n",
       "        text-align: right;\n",
       "    }\n",
       "</style>\n",
       "<table border=\"1\" class=\"dataframe\">\n",
       "  <thead>\n",
       "    <tr style=\"text-align: right;\">\n",
       "      <th></th>\n",
       "      <th>x</th>\n",
       "      <th>y</th>\n",
       "    </tr>\n",
       "  </thead>\n",
       "  <tbody>\n",
       "    <tr>\n",
       "      <th>0</th>\n",
       "      <td>1</td>\n",
       "      <td>1</td>\n",
       "    </tr>\n",
       "    <tr>\n",
       "      <th>1</th>\n",
       "      <td>2</td>\n",
       "      <td>2</td>\n",
       "    </tr>\n",
       "    <tr>\n",
       "      <th>2</th>\n",
       "      <td>3</td>\n",
       "      <td>3</td>\n",
       "    </tr>\n",
       "    <tr>\n",
       "      <th>3</th>\n",
       "      <td>4</td>\n",
       "      <td>4</td>\n",
       "    </tr>\n",
       "    <tr>\n",
       "      <th>4</th>\n",
       "      <td>5</td>\n",
       "      <td>5</td>\n",
       "    </tr>\n",
       "    <tr>\n",
       "      <th>5</th>\n",
       "      <td>6</td>\n",
       "      <td>6</td>\n",
       "    </tr>\n",
       "    <tr>\n",
       "      <th>6</th>\n",
       "      <td>7</td>\n",
       "      <td>7</td>\n",
       "    </tr>\n",
       "    <tr>\n",
       "      <th>7</th>\n",
       "      <td>8</td>\n",
       "      <td>8</td>\n",
       "    </tr>\n",
       "    <tr>\n",
       "      <th>8</th>\n",
       "      <td>9</td>\n",
       "      <td>9</td>\n",
       "    </tr>\n",
       "  </tbody>\n",
       "</table>\n",
       "</div>"
      ],
      "text/plain": [
       "   x  y\n",
       "0  1  1\n",
       "1  2  2\n",
       "2  3  3\n",
       "3  4  4\n",
       "4  5  5\n",
       "5  6  6\n",
       "6  7  7\n",
       "7  8  8\n",
       "8  9  9"
      ]
     },
     "execution_count": 7,
     "metadata": {},
     "output_type": "execute_result"
    }
   ],
   "source": [
    "#creating a dataframe from a dictionary of series\n",
    "x=pd.Series([1,2,3,4,5,6,7,8,9])\n",
    "y=pd.Series([1,2,3,4,5,6,7,8,9])\n",
    "#DtataFrame\n",
    "df1=pd.DataFrame({\"x\":x,'y':y})\n",
    "df1"
   ]
  },
  {
   "cell_type": "code",
   "execution_count": 8,
   "id": "decb3f2a",
   "metadata": {},
   "outputs": [
    {
     "data": {
      "text/html": [
       "<div>\n",
       "<style scoped>\n",
       "    .dataframe tbody tr th:only-of-type {\n",
       "        vertical-align: middle;\n",
       "    }\n",
       "\n",
       "    .dataframe tbody tr th {\n",
       "        vertical-align: top;\n",
       "    }\n",
       "\n",
       "    .dataframe thead th {\n",
       "        text-align: right;\n",
       "    }\n",
       "</style>\n",
       "<table border=\"1\" class=\"dataframe\">\n",
       "  <thead>\n",
       "    <tr style=\"text-align: right;\">\n",
       "      <th></th>\n",
       "      <th>x</th>\n",
       "      <th>y</th>\n",
       "    </tr>\n",
       "  </thead>\n",
       "  <tbody>\n",
       "    <tr>\n",
       "      <th>0</th>\n",
       "      <td>1</td>\n",
       "      <td>2</td>\n",
       "    </tr>\n",
       "    <tr>\n",
       "      <th>1</th>\n",
       "      <td>2</td>\n",
       "      <td>2</td>\n",
       "    </tr>\n",
       "    <tr>\n",
       "      <th>2</th>\n",
       "      <td>3</td>\n",
       "      <td>4</td>\n",
       "    </tr>\n",
       "    <tr>\n",
       "      <th>3</th>\n",
       "      <td>2</td>\n",
       "      <td>7</td>\n",
       "    </tr>\n",
       "  </tbody>\n",
       "</table>\n",
       "</div>"
      ],
      "text/plain": [
       "   x  y\n",
       "0  1  2\n",
       "1  2  2\n",
       "2  3  4\n",
       "3  2  7"
      ]
     },
     "execution_count": 8,
     "metadata": {},
     "output_type": "execute_result"
    }
   ],
   "source": [
    "#creating from lis\n",
    "data=[\n",
    "    [1,2],\n",
    "    [2,2],\n",
    "    [3,4],\n",
    "    [2,7]\n",
    "]\n",
    "df2=pd.DataFrame(data,columns=[\"x\",\"y\"])\n",
    "df2"
   ]
  },
  {
   "cell_type": "code",
   "execution_count": 66,
   "id": "6a7f7a41",
   "metadata": {},
   "outputs": [
    {
     "data": {
      "text/html": [
       "<div>\n",
       "<style scoped>\n",
       "    .dataframe tbody tr th:only-of-type {\n",
       "        vertical-align: middle;\n",
       "    }\n",
       "\n",
       "    .dataframe tbody tr th {\n",
       "        vertical-align: top;\n",
       "    }\n",
       "\n",
       "    .dataframe thead th {\n",
       "        text-align: right;\n",
       "    }\n",
       "</style>\n",
       "<table border=\"1\" class=\"dataframe\">\n",
       "  <thead>\n",
       "    <tr style=\"text-align: right;\">\n",
       "      <th></th>\n",
       "      <th>name</th>\n",
       "      <th>age</th>\n",
       "    </tr>\n",
       "  </thead>\n",
       "  <tbody>\n",
       "    <tr>\n",
       "      <th>a</th>\n",
       "      <td>Amos</td>\n",
       "      <td>23</td>\n",
       "    </tr>\n",
       "    <tr>\n",
       "      <th>b</th>\n",
       "      <td>John</td>\n",
       "      <td>20</td>\n",
       "    </tr>\n",
       "  </tbody>\n",
       "</table>\n",
       "</div>"
      ],
      "text/plain": [
       "   name  age\n",
       "a  Amos   23\n",
       "b  John   20"
      ]
     },
     "execution_count": 66,
     "metadata": {},
     "output_type": "execute_result"
    }
   ],
   "source": [
    "#fromlist of dictionaries\n",
    "data=[\n",
    "    {\"name\":\"Amos\",\"age\":23},\n",
    "    {\"name\":\"John\",\"age\":20}\n",
    "]\n",
    "df3=pd.DataFrame(data,index=['a','b'])\n",
    "df3"
   ]
  },
  {
   "cell_type": "markdown",
   "id": "86978408",
   "metadata": {},
   "source": [
    "# creating using WELL KNOWN TEXT"
   ]
  },
  {
   "cell_type": "code",
   "execution_count": 67,
   "id": "f5207437",
   "metadata": {},
   "outputs": [],
   "source": [
    "pol1 = shapely.wkt.loads('POLYGON ((0 0, 0 -1, 7.5 -1, 7.5 0, 0 0))')\n",
    "pol2 = shapely.wkt.loads('POLYGON ((0 1, 1 0, 2 0.5, 3 0, 4 0, 5 0.5, 6 -0.5, 7 -0.5, 7 1, 0 1))')"
   ]
  },
  {
   "cell_type": "code",
   "execution_count": 68,
   "id": "9734d612",
   "metadata": {},
   "outputs": [
    {
     "data": {
      "text/plain": [
       "0    POLYGON ((0.00000 0.00000, 0.00000 -1.00000, 7...\n",
       "1    POLYGON ((0.00000 1.00000, 1.00000 0.00000, 2....\n",
       "dtype: geometry"
      ]
     },
     "execution_count": 68,
     "metadata": {},
     "output_type": "execute_result"
    }
   ],
   "source": [
    "s = gpd.GeoSeries([pol1, pol2], crs=4326)\n",
    "s"
   ]
  },
  {
   "cell_type": "markdown",
   "id": "e26faf70",
   "metadata": {},
   "source": [
    "# ADDING attributes"
   ]
  },
  {
   "cell_type": "code",
   "execution_count": 69,
   "id": "c46567dd",
   "metadata": {},
   "outputs": [
    {
     "data": {
      "text/plain": [
       "{'name': ['a', 'b'],\n",
       " 'location': ['south', 'north'],\n",
       " 'geometry': 0    POLYGON ((0.00000 0.00000, 0.00000 -1.00000, 7...\n",
       " 1    POLYGON ((0.00000 1.00000, 1.00000 0.00000, 2....\n",
       " dtype: geometry}"
      ]
     },
     "execution_count": 69,
     "metadata": {},
     "output_type": "execute_result"
    }
   ],
   "source": [
    "d={'name':['a','b'],'location':['south','north'],'geometry':s}\n",
    "d"
   ]
  },
  {
   "cell_type": "code",
   "execution_count": 76,
   "id": "bc560138",
   "metadata": {},
   "outputs": [
    {
     "data": {
      "text/html": [
       "<div>\n",
       "<style scoped>\n",
       "    .dataframe tbody tr th:only-of-type {\n",
       "        vertical-align: middle;\n",
       "    }\n",
       "\n",
       "    .dataframe tbody tr th {\n",
       "        vertical-align: top;\n",
       "    }\n",
       "\n",
       "    .dataframe thead th {\n",
       "        text-align: right;\n",
       "    }\n",
       "</style>\n",
       "<table border=\"1\" class=\"dataframe\">\n",
       "  <thead>\n",
       "    <tr style=\"text-align: right;\">\n",
       "      <th></th>\n",
       "      <th>name</th>\n",
       "      <th>location</th>\n",
       "      <th>geometry</th>\n",
       "    </tr>\n",
       "  </thead>\n",
       "  <tbody>\n",
       "    <tr>\n",
       "      <th>0</th>\n",
       "      <td>a</td>\n",
       "      <td>south</td>\n",
       "      <td>POLYGON ((0.00000 0.00000, 0.00000 -1.00000, 7...</td>\n",
       "    </tr>\n",
       "    <tr>\n",
       "      <th>1</th>\n",
       "      <td>b</td>\n",
       "      <td>north</td>\n",
       "      <td>POLYGON ((0.00000 1.00000, 1.00000 0.00000, 2....</td>\n",
       "    </tr>\n",
       "  </tbody>\n",
       "</table>\n",
       "</div>"
      ],
      "text/plain": [
       "  name location                                           geometry\n",
       "0    a    south  POLYGON ((0.00000 0.00000, 0.00000 -1.00000, 7...\n",
       "1    b    north  POLYGON ((0.00000 1.00000, 1.00000 0.00000, 2...."
      ]
     },
     "execution_count": 76,
     "metadata": {},
     "output_type": "execute_result"
    }
   ],
   "source": [
    "gdfd=gpd.GeoDataFrame(d)\n",
    "gdfd"
   ]
  },
  {
   "cell_type": "markdown",
   "id": "3170c68f",
   "metadata": {},
   "source": [
    "# creating random points\n",
    "creating a function that take 2 arguments\n",
    "1. polygon\n",
    "2. number of random points\n",
    "polygon has xmin,ymin, xmax,ymax"
   ]
  },
  {
   "cell_type": "code",
   "execution_count": 35,
   "id": "52e87147",
   "metadata": {},
   "outputs": [],
   "source": [
    "def random1(poly, number):\n",
    "    xmin,ymin, xmax,ymax = poly.bounds\n",
    "  \n",
    "    x=np.random.uniform(xmin,xmax,number)\n",
    "  \n",
    "    y=np.random.uniform(ymin,ymax,number)\n",
    "    return x,y"
   ]
  },
  {
   "cell_type": "code",
   "execution_count": 50,
   "id": "23f88150",
   "metadata": {},
   "outputs": [],
   "source": [
    "polygon = Polygon([[0,0],[0,20],[30,20],[30,-0.5],[0,0]])\n",
    "x,y=random1(polygon,100)\n",
    "x = x.round(3)\n",
    "y= y.round(3)\n"
   ]
  },
  {
   "cell_type": "code",
   "execution_count": 51,
   "id": "2244b333",
   "metadata": {},
   "outputs": [
    {
     "data": {
      "image/svg+xml": [
       "<svg xmlns=\"http://www.w3.org/2000/svg\" xmlns:xlink=\"http://www.w3.org/1999/xlink\" width=\"100.0\" height=\"100.0\" viewBox=\"-1.2 -1.7 32.4 22.9\" preserveAspectRatio=\"xMinYMin meet\"><g transform=\"matrix(1,0,0,-1,0,19.5)\"><path fill-rule=\"evenodd\" fill=\"#66cc99\" stroke=\"#555555\" stroke-width=\"0.648\" opacity=\"0.6\" d=\"M 0.0,0.0 L 0.0,20.0 L 30.0,20.0 L 30.0,-0.5 L 0.0,0.0 z\" /></g></svg>"
      ],
      "text/plain": [
       "<shapely.geometry.polygon.Polygon at 0x7fc05e331790>"
      ]
     },
     "execution_count": 51,
     "metadata": {},
     "output_type": "execute_result"
    }
   ],
   "source": [
    "polygon"
   ]
  },
  {
   "cell_type": "code",
   "execution_count": 54,
   "id": "60e3252a",
   "metadata": {},
   "outputs": [
    {
     "data": {
      "text/plain": [
       "array([14.384, 19.765,  3.289, 12.768,  8.746, 10.959, 15.951, 17.5  ,\n",
       "        3.957,  7.913,  2.576, 11.499, 10.44 , 14.402, 16.693, 16.682,\n",
       "       19.172,  6.554,  7.278, 17.9  , 15.691,  4.239, 17.355,  2.164,\n",
       "       15.823,  9.796,  8.546, 14.262, 11.547,  7.254,  9.544, 16.096,\n",
       "       13.859,  4.684,  6.784,  0.258, 13.675,  8.271, 15.636, 14.432,\n",
       "        2.324, 13.926,  4.787, 16.555, 16.926,  0.972,  4.307, 15.915,\n",
       "        4.095, -0.051, 12.822,  2.105, 19.403,  0.766,  4.123, 11.379,\n",
       "       15.37 , 11.02 ,  5.189, 17.131, 18.468,  1.417, 14.342,  9.315,\n",
       "       15.336,  0.405, 19.3  ,  4.773, 16.799,  4.751,  3.381, 19.399,\n",
       "       11.547,  6.115, 16.43 , 17.519,  0.639, -0.499,  6.616, 16.073,\n",
       "        3.351, 13.736, 15.215,  3.189, 11.413, 11.058, 14.748,  3.233,\n",
       "       10.953, 11.455,  9.225, 11.45 , 17.192, 17.526, 17.48 , 16.705,\n",
       "        1.518, 10.194, 12.24 ,  9.373])"
      ]
     },
     "execution_count": 54,
     "metadata": {},
     "output_type": "execute_result"
    }
   ],
   "source": [
    "y"
   ]
  },
  {
   "cell_type": "code",
   "execution_count": 58,
   "id": "b072bc32",
   "metadata": {},
   "outputs": [
    {
     "data": {
      "text/html": [
       "<div>\n",
       "<style scoped>\n",
       "    .dataframe tbody tr th:only-of-type {\n",
       "        vertical-align: middle;\n",
       "    }\n",
       "\n",
       "    .dataframe tbody tr th {\n",
       "        vertical-align: top;\n",
       "    }\n",
       "\n",
       "    .dataframe thead th {\n",
       "        text-align: right;\n",
       "    }\n",
       "</style>\n",
       "<table border=\"1\" class=\"dataframe\">\n",
       "  <thead>\n",
       "    <tr style=\"text-align: right;\">\n",
       "      <th></th>\n",
       "      <th>geometry</th>\n",
       "    </tr>\n",
       "  </thead>\n",
       "  <tbody>\n",
       "    <tr>\n",
       "      <th>0</th>\n",
       "      <td>(17.835, 14.384)</td>\n",
       "    </tr>\n",
       "    <tr>\n",
       "      <th>1</th>\n",
       "      <td>(27.96, 19.765)</td>\n",
       "    </tr>\n",
       "    <tr>\n",
       "      <th>2</th>\n",
       "      <td>(27.68, 3.289)</td>\n",
       "    </tr>\n",
       "    <tr>\n",
       "      <th>3</th>\n",
       "      <td>(7.487, 12.768)</td>\n",
       "    </tr>\n",
       "    <tr>\n",
       "      <th>4</th>\n",
       "      <td>(4.87, 8.746)</td>\n",
       "    </tr>\n",
       "    <tr>\n",
       "      <th>...</th>\n",
       "      <td>...</td>\n",
       "    </tr>\n",
       "    <tr>\n",
       "      <th>95</th>\n",
       "      <td>(3.193, 16.705)</td>\n",
       "    </tr>\n",
       "    <tr>\n",
       "      <th>96</th>\n",
       "      <td>(18.221, 1.518)</td>\n",
       "    </tr>\n",
       "    <tr>\n",
       "      <th>97</th>\n",
       "      <td>(22.668, 10.194)</td>\n",
       "    </tr>\n",
       "    <tr>\n",
       "      <th>98</th>\n",
       "      <td>(15.182, 12.24)</td>\n",
       "    </tr>\n",
       "    <tr>\n",
       "      <th>99</th>\n",
       "      <td>(14.391, 9.373)</td>\n",
       "    </tr>\n",
       "  </tbody>\n",
       "</table>\n",
       "<p>100 rows × 1 columns</p>\n",
       "</div>"
      ],
      "text/plain": [
       "            geometry\n",
       "0   (17.835, 14.384)\n",
       "1    (27.96, 19.765)\n",
       "2     (27.68, 3.289)\n",
       "3    (7.487, 12.768)\n",
       "4      (4.87, 8.746)\n",
       "..               ...\n",
       "95   (3.193, 16.705)\n",
       "96   (18.221, 1.518)\n",
       "97  (22.668, 10.194)\n",
       "98   (15.182, 12.24)\n",
       "99   (14.391, 9.373)\n",
       "\n",
       "[100 rows x 1 columns]"
      ]
     },
     "execution_count": 58,
     "metadata": {},
     "output_type": "execute_result"
    }
   ],
   "source": [
    "df = pd.DataFrame()\n",
    "df['geometry'] = list(zip(x,y))\n",
    "df"
   ]
  },
  {
   "cell_type": "markdown",
   "id": "3199bbea",
   "metadata": {},
   "source": [
    "# converting list of cordinates to Shapes"
   ]
  },
  {
   "cell_type": "code",
   "execution_count": 59,
   "id": "cbbe8cbd",
   "metadata": {},
   "outputs": [
    {
     "data": {
      "text/html": [
       "<div>\n",
       "<style scoped>\n",
       "    .dataframe tbody tr th:only-of-type {\n",
       "        vertical-align: middle;\n",
       "    }\n",
       "\n",
       "    .dataframe tbody tr th {\n",
       "        vertical-align: top;\n",
       "    }\n",
       "\n",
       "    .dataframe thead th {\n",
       "        text-align: right;\n",
       "    }\n",
       "</style>\n",
       "<table border=\"1\" class=\"dataframe\">\n",
       "  <thead>\n",
       "    <tr style=\"text-align: right;\">\n",
       "      <th></th>\n",
       "      <th>geometry</th>\n",
       "    </tr>\n",
       "  </thead>\n",
       "  <tbody>\n",
       "    <tr>\n",
       "      <th>0</th>\n",
       "      <td>POINT (17.835 14.384)</td>\n",
       "    </tr>\n",
       "    <tr>\n",
       "      <th>1</th>\n",
       "      <td>POINT (27.96 19.765)</td>\n",
       "    </tr>\n",
       "    <tr>\n",
       "      <th>2</th>\n",
       "      <td>POINT (27.68 3.289)</td>\n",
       "    </tr>\n",
       "    <tr>\n",
       "      <th>3</th>\n",
       "      <td>POINT (7.487 12.768)</td>\n",
       "    </tr>\n",
       "    <tr>\n",
       "      <th>4</th>\n",
       "      <td>POINT (4.87 8.746)</td>\n",
       "    </tr>\n",
       "    <tr>\n",
       "      <th>...</th>\n",
       "      <td>...</td>\n",
       "    </tr>\n",
       "    <tr>\n",
       "      <th>95</th>\n",
       "      <td>POINT (3.193 16.705)</td>\n",
       "    </tr>\n",
       "    <tr>\n",
       "      <th>96</th>\n",
       "      <td>POINT (18.221 1.518)</td>\n",
       "    </tr>\n",
       "    <tr>\n",
       "      <th>97</th>\n",
       "      <td>POINT (22.668 10.194)</td>\n",
       "    </tr>\n",
       "    <tr>\n",
       "      <th>98</th>\n",
       "      <td>POINT (15.182 12.24)</td>\n",
       "    </tr>\n",
       "    <tr>\n",
       "      <th>99</th>\n",
       "      <td>POINT (14.391 9.372999999999999)</td>\n",
       "    </tr>\n",
       "  </tbody>\n",
       "</table>\n",
       "<p>100 rows × 1 columns</p>\n",
       "</div>"
      ],
      "text/plain": [
       "                            geometry\n",
       "0              POINT (17.835 14.384)\n",
       "1               POINT (27.96 19.765)\n",
       "2                POINT (27.68 3.289)\n",
       "3               POINT (7.487 12.768)\n",
       "4                 POINT (4.87 8.746)\n",
       "..                               ...\n",
       "95              POINT (3.193 16.705)\n",
       "96              POINT (18.221 1.518)\n",
       "97             POINT (22.668 10.194)\n",
       "98              POINT (15.182 12.24)\n",
       "99  POINT (14.391 9.372999999999999)\n",
       "\n",
       "[100 rows x 1 columns]"
      ]
     },
     "execution_count": 59,
     "metadata": {},
     "output_type": "execute_result"
    }
   ],
   "source": [
    "df['geometry'] = df['geometry'].apply(Point)\n",
    "df"
   ]
  },
  {
   "cell_type": "markdown",
   "id": "190bdb70",
   "metadata": {},
   "source": [
    "# converting pandas dataframe to Geopandas dataframe"
   ]
  },
  {
   "cell_type": "code",
   "execution_count": 62,
   "id": "074aee82",
   "metadata": {},
   "outputs": [],
   "source": [
    "dta=gpd.GeoDataFrame(df)"
   ]
  },
  {
   "cell_type": "code",
   "execution_count": 63,
   "id": "b9a02bbd",
   "metadata": {},
   "outputs": [
    {
     "data": {
      "text/html": [
       "<div>\n",
       "<style scoped>\n",
       "    .dataframe tbody tr th:only-of-type {\n",
       "        vertical-align: middle;\n",
       "    }\n",
       "\n",
       "    .dataframe tbody tr th {\n",
       "        vertical-align: top;\n",
       "    }\n",
       "\n",
       "    .dataframe thead th {\n",
       "        text-align: right;\n",
       "    }\n",
       "</style>\n",
       "<table border=\"1\" class=\"dataframe\">\n",
       "  <thead>\n",
       "    <tr style=\"text-align: right;\">\n",
       "      <th></th>\n",
       "      <th>geometry</th>\n",
       "    </tr>\n",
       "  </thead>\n",
       "  <tbody>\n",
       "    <tr>\n",
       "      <th>0</th>\n",
       "      <td>POINT (17.83500 14.38400)</td>\n",
       "    </tr>\n",
       "    <tr>\n",
       "      <th>1</th>\n",
       "      <td>POINT (27.96000 19.76500)</td>\n",
       "    </tr>\n",
       "    <tr>\n",
       "      <th>2</th>\n",
       "      <td>POINT (27.68000 3.28900)</td>\n",
       "    </tr>\n",
       "    <tr>\n",
       "      <th>3</th>\n",
       "      <td>POINT (7.48700 12.76800)</td>\n",
       "    </tr>\n",
       "    <tr>\n",
       "      <th>4</th>\n",
       "      <td>POINT (4.87000 8.74600)</td>\n",
       "    </tr>\n",
       "    <tr>\n",
       "      <th>...</th>\n",
       "      <td>...</td>\n",
       "    </tr>\n",
       "    <tr>\n",
       "      <th>95</th>\n",
       "      <td>POINT (3.19300 16.70500)</td>\n",
       "    </tr>\n",
       "    <tr>\n",
       "      <th>96</th>\n",
       "      <td>POINT (18.22100 1.51800)</td>\n",
       "    </tr>\n",
       "    <tr>\n",
       "      <th>97</th>\n",
       "      <td>POINT (22.66800 10.19400)</td>\n",
       "    </tr>\n",
       "    <tr>\n",
       "      <th>98</th>\n",
       "      <td>POINT (15.18200 12.24000)</td>\n",
       "    </tr>\n",
       "    <tr>\n",
       "      <th>99</th>\n",
       "      <td>POINT (14.39100 9.37300)</td>\n",
       "    </tr>\n",
       "  </tbody>\n",
       "</table>\n",
       "<p>100 rows × 1 columns</p>\n",
       "</div>"
      ],
      "text/plain": [
       "                     geometry\n",
       "0   POINT (17.83500 14.38400)\n",
       "1   POINT (27.96000 19.76500)\n",
       "2    POINT (27.68000 3.28900)\n",
       "3    POINT (7.48700 12.76800)\n",
       "4     POINT (4.87000 8.74600)\n",
       "..                        ...\n",
       "95   POINT (3.19300 16.70500)\n",
       "96   POINT (18.22100 1.51800)\n",
       "97  POINT (22.66800 10.19400)\n",
       "98  POINT (15.18200 12.24000)\n",
       "99   POINT (14.39100 9.37300)\n",
       "\n",
       "[100 rows x 1 columns]"
      ]
     },
     "execution_count": 63,
     "metadata": {},
     "output_type": "execute_result"
    }
   ],
   "source": [
    "dta"
   ]
  },
  {
   "cell_type": "markdown",
   "id": "f9336fa1",
   "metadata": {},
   "source": [
    "# plotting Vector data"
   ]
  },
  {
   "cell_type": "code",
   "execution_count": 64,
   "id": "d293cabf",
   "metadata": {},
   "outputs": [
    {
     "data": {
      "text/plain": [
       "<AxesSubplot:>"
      ]
     },
     "execution_count": 64,
     "metadata": {},
     "output_type": "execute_result"
    },
    {
     "data": {
      "image/png": "[encoded data removed]",
      "text/plain": [
       "<Figure size 432x288 with 1 Axes>"
      ]
     },
     "metadata": {
      "needs_background": "light"
     },
     "output_type": "display_data"
    }
   ],
   "source": [
    "dta.plot()"
   ]
  },
  {
   "cell_type": "code",
   "execution_count": 77,
   "id": "dd9ae47d",
   "metadata": {},
   "outputs": [
    {
     "data": {
      "text/plain": [
       "<AxesSubplot:>"
      ]
     },
     "execution_count": 77,
     "metadata": {},
     "output_type": "execute_result"
    },
    {
     "data": {
      "image/png": "[encoded data removed]",
      "text/plain": [
       "<Figure size 432x288 with 1 Axes>"
      ]
     },
     "metadata": {
      "needs_background": "light"
     },
     "output_type": "display_data"
    }
   ],
   "source": [
    "gdfd.plot(column='location',legend=True)"
   ]
  },
  {
   "cell_type": "markdown",
   "id": "e96ecb81",
   "metadata": {},
   "source": [
    "# writting\n",
    "1. shapefile .shp\n",
    "2. geodatabase\n",
    "3. geopackage"
   ]
  },
  {
   "cell_type": "code",
   "execution_count": null,
   "id": "fba4e82b",
   "metadata": {},
   "outputs": [],
   "source": [
    "gdfd.to_file('out.shp',encoding='utf-8')"
   ]
  },
  {
   "cell_type": "code",
   "execution_count": null,
   "id": "0da02df0",
   "metadata": {},
   "outputs": [],
   "source": [
    "gdfd.to_file('geo.gpkg', driver='GPKG')"
   ]
  }
 ],
 "metadata": {
  "kernelspec": {
   "display_name": "Python 3 (ipykernel)",
   "language": "python",
   "name": "python3"
  },
  "language_info": {
   "codemirror_mode": {
    "name": "ipython",
    "version": 3
   },
   "file_extension": ".py",
   "mimetype": "text/x-python",
   "name": "python",
   "nbconvert_exporter": "python",
   "pygments_lexer": "ipython3",
   "version": "3.9.12"
  }
 },
 "nbformat": 4,
 "nbformat_minor": 5
}
